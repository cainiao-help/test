{
 "cells": [
  {
   "cell_type": "markdown",
   "metadata": {},
   "source": [
    "## algorithm design and anlysis-2025 spring  homework 3\n",
    "**Deadline**：2025.5.14\n",
    "\n",
    "**name**:\n",
    "\n",
    "\n",
    "note：\n",
    "---\n",
    "1. 带有\\*的题目，申请免上课的同学，必须完成，其他同学选作；\n",
    "2. 请独立完成，如求助了他人或者大模型，请著明，并且不可省略算法分析部分；\n",
    "4. 如若作答有雷同，全部取消成绩；\n",
    "3. 需要书面作答的题目，可以通过引用图片的形式添加，但是注意上传项目时包含所引用的图片的源文件；\n",
    "4. $log_n$ 默认表示$log_2{n}$;"
   ]
  },
  {
   "cell_type": "markdown",
   "metadata": {},
   "source": [
    "## 问题 1  \n",
    "\n",
    "请证明基于比较的排序算法计算复杂度下界为$\\Omega(nlogn)$"
   ]
  },
  {
   "cell_type": "markdown",
   "metadata": {},
   "source": [
    "you can refer a handwritten picture, pleas upload the picture in /fig/xxx.png\n",
    "answer：hw3q1.png\n"
   ]
  },
  {
   "metadata": {},
   "cell_type": "code",
   "outputs": [],
   "execution_count": null,
   "source": ""
  },
  {
   "cell_type": "markdown",
   "metadata": {},
   "source": [
    "## 问题 2 \n",
    "\n",
    "构建二叉搜索树\n",
    "\n",
    "> 1. 给定一个数组 [48, 33, 49, 47, 42, 46, 32], 构建一个二叉搜索树存储这些数据，请**绘制**所构建的**二叉搜索树**（标明结点的值）。\n",
    "> 2. 从第1问的二叉搜索树中删除33，请**绘制**删除33后的**二叉搜索树**（标明结点的值）\n",
    "\n",
    "- 推荐使用graphviz包绘制树的结构"
   ]
  },
  {
   "cell_type": "markdown",
   "metadata": {},
   "source": [
    "you can refer a handwritten picture, pleas upload the picture in /fig/xxx.png\n",
    "answer：hw3q2.png\n",
    "\n",
    "\n"
   ]
  },
  {
   "cell_type": "markdown",
   "metadata": {},
   "source": [
    "## 问题 3 \n",
    "\n",
    "> 下面是九门课程的开始和结束时间:\n",
    ">\n",
    "> [(9:00,12:30), (11:00,14:00), (13:00, 14:30), (9:00,10:30),(13:00, 14:30),(14:00,16:30), (15:00,16:30), (15:00,16:30), (9:00,10:30)]\n",
    ">\n",
    "> 请使用贪婪算法为这九门课分配教室，要求在同一天内安排这些课，并且每个教室同一时间只能安排一门课。\n",
    "\n",
    "**请问最少需要几间教室，罗列出每个教室安排的课程**"
   ]
  },
  {
   "cell_type": "markdown",
   "metadata": {},
   "source": "idea：初始化一个列表来保存每个教室安排的课程，初始时列表为空按照排序后的顺序，依次处理每门课程，对于每门课程，从第一个教室开始检查是否可以安排该课程（即当前课程的开始时间不早于该教室最后一门课程的结束时间），若可以安排，则将该课程加入该教室的课程列表中；若检查完所有教室都无法安排该课程，则新增一个教室，并将该课程加入新教室的课程列表中。"
  },
  {
   "cell_type": "code",
   "metadata": {
    "vscode": {
     "languageId": "plaintext"
    },
    "ExecuteTime": {
     "end_time": "2025-05-07T07:57:58.081468Z",
     "start_time": "2025-05-07T07:57:58.059377Z"
    }
   },
   "source": [
    "#code：\n",
    "#参考大模型\n",
    "# 定义课程列表\n",
    "courses = [\n",
    "    (9, 10.5), (9, 10.5), (11, 14), (13, 14.5), (13, 14.5), (14, 16.5), (15, 16.5), (15, 16.5), (9, 12.5)\n",
    "]\n",
    "\n",
    "# 按课程结束时间从小到大排序\n",
    "courses.sort(key=lambda x: x[1])\n",
    "\n",
    "# 创建一个列表来保存每个教室安排的课程，每个元素是一个列表，表示该教室的课程\n",
    "classrooms = []\n",
    "\n",
    "for course in courses:\n",
    "    # 标志是否找到可以安排该课程的教室\n",
    "    arranged = False\n",
    "    # 遍历每个教室\n",
    "    for classroom in classrooms:\n",
    "        # 获取该教室最后一门课程的结束时间\n",
    "        last_end = classroom[-1][1]\n",
    "        # 如果当前课程的开始时间不早于该教室最后一门课程的结束时间，则可以安排\n",
    "        if course[0] >= last_end:\n",
    "            classroom.append(course)\n",
    "            arranged = True\n",
    "            break\n",
    "    # 如果没有找到可以安排的教室，则新增一个教室\n",
    "    if not arranged:\n",
    "        classrooms.append([course])\n",
    "\n",
    "# 输出结果\n",
    "print(f\"最少需要 {len(classrooms)} 间教室\")\n",
    "for i, classroom in enumerate(classrooms, 1):\n",
    "    print(f\"教室 {i} 安排的课程：{classroom}\")"
   ],
   "outputs": [
    {
     "name": "stdout",
     "output_type": "stream",
     "text": [
      "最少需要 3 间教室\n",
      "教室 1 安排的课程：[(9, 10.5), (11, 14), (14, 16.5)]\n",
      "教室 2 安排的课程：[(9, 10.5), (13, 14.5), (15, 16.5)]\n",
      "教室 3 安排的课程：[(9, 12.5), (13, 14.5), (15, 16.5)]\n"
     ]
    }
   ],
   "execution_count": 1
  },
  {
   "cell_type": "markdown",
   "metadata": {},
   "source": [
    "## 问题 4 \n",
    "\n",
    "> 爬楼梯问题：假设爬楼梯时你每次只能爬一阶或者爬两阶，问爬上n阶的楼梯，你一共有多少种方法\n",
    "\n",
    "请设计算法完成该问题，分析算法设计思路，计算时间复杂度，并基于python编程实现"
   ]
  },
  {
   "cell_type": "markdown",
   "metadata": {},
   "source": "idea：采用递归方法找到F(x) = F(x-1) + F(x-2),边界条件为0,1,2，更可使用动态规划，通过数组存储中间结果，遍历一次数组即可完成。"
  },
  {
   "cell_type": "code",
   "metadata": {
    "ExecuteTime": {
     "end_time": "2025-05-07T08:11:08.467548Z",
     "start_time": "2025-05-07T08:11:08.454962Z"
    }
   },
   "source": [
    "# add your code here\n",
    "def climb(n):\n",
    "    # 基线条件\n",
    "    if n == 0:\n",
    "        return 0\n",
    "    if n == 1:\n",
    "        return 1\n",
    "    if n == 2:\n",
    "        return 2\n",
    "    # 递归条件\n",
    "    return climb(n - 1) + (n - 2)\n",
    "\n",
    "print(climb(4))  \n",
    "\n",
    "# your algorithm time complexity is: O(2^n)\n"
   ],
   "outputs": [
    {
     "name": "stdout",
     "output_type": "stream",
     "text": [
      "5\n"
     ]
    }
   ],
   "execution_count": 7
  },
  {
   "cell_type": "markdown",
   "metadata": {},
   "source": [
    "## 问题 5 \n",
    "\n",
    "> 0-1背包问题：现在有4块大理石，每个大理石对应的重量和价值使用一个元组表示, 即（重量，价值），4块大理石的重量和价值为：[(5,10), (4,40), (6,30), (3, 50)], 假设你有一辆最大承重为9的小推车，请问使用这个小推车装大理石的最大价值为多少\n",
    "\n",
    "请设计一个算法解决该问题，分析算法设计思路，计算时间复杂度，并基于python编程实现"
   ]
  },
  {
   "cell_type": "markdown",
   "metadata": {},
   "source": [
    "idea："
   ]
  },
  {
   "cell_type": "code",
   "metadata": {
    "ExecuteTime": {
     "end_time": "2025-05-07T08:30:40.029767Z",
     "start_time": "2025-05-07T08:30:40.021602Z"
    }
   },
   "source": [
    "# add your code here\n",
    "# 定义一个全局变量来记录最大价值\n",
    "max_value = 0\n",
    "\n",
    "def knapsack_recursive(items, max_weight, index, current_weight, current_value):\n",
    "    global max_value\n",
    "    # 如果已经处理完所有物品或者当前重量已经达到最大承重\n",
    "    if index == len(items) or current_weight == max_weight:\n",
    "        if current_value > max_value:\n",
    "            max_value = current_value\n",
    "        return\n",
    "    \n",
    "    # 不选当前物品\n",
    "    knapsack_recursive(items, max_weight, index + 1, current_weight, current_value)\n",
    "    \n",
    "    # 选当前物品（如果不超过最大承重）\n",
    "    weight, value = items[index]\n",
    "    if current_weight + weight <= max_weight:\n",
    "        knapsack_recursive(items, max_weight, index + 1, current_weight + weight, current_value + value)\n",
    "    \n",
    "    return max_value\n",
    "\n",
    "# 测试\n",
    "marbles = [(5, 10), (4, 40), (6, 30), (3, 50)]\n",
    "max_weight = 9\n",
    "print(knapsack_recursive(marbles, max_weight, 0, 0, 0))  # 输出最大价值\n",
    "# your algorithm time complexity is:O(n²)"
   ],
   "outputs": [
    {
     "name": "stdout",
     "output_type": "stream",
     "text": [
      "90\n"
     ]
    }
   ],
   "execution_count": 8
  },
  {
   "cell_type": "markdown",
   "metadata": {},
   "source": [
    "## 问题 6 \n",
    "给定 `n` 个非负整数表示每个宽度为 `1` 的柱子的高度图，计算按此排列的柱子，下雨之后能接多少雨水。\n",
    "\n",
    "\n",
    "\n",
    "<div style=\"text-align:center;width:800px;\"> <img alt=\"\" src=\"./fig/hw3q6.png\"> </div>\n",
    "\n",
    "请分析算法设计思路，计算时间复杂度，并基于python编程实现"
   ]
  },
  {
   "cell_type": "markdown",
   "metadata": {},
   "source": "idea：初始化两个指针 left 和 right 分别指向数组的左右两端。初始化两个变量 left_max 和 right_max，分别记录左右指针所经过位置的最大高度。使用一个循环不断接近数组的中心如果左边的高度小于右边的高度，则左边的柱子可能会被右边的柱子挡住，因此计算左边能接的雨水量，并更新 left_max。如果右边的高度小于或等于左边的高度，则计算右边能接的雨水量，并更新 right_max。移动指针并重复上述过程，直到指针相遇。"
  },
  {
   "cell_type": "code",
   "metadata": {
    "ExecuteTime": {
     "end_time": "2025-05-07T08:42:32.325522Z",
     "start_time": "2025-05-07T08:42:32.314451Z"
    }
   },
   "source": [
    "# add your code here\n",
    "#参考了大模型和博客\n",
    "def trap(height):\n",
    "    left = 0\n",
    "    right = len(height) - 1\n",
    "    left_max = 0\n",
    "    right_max = 0\n",
    "    result = 0\n",
    "\n",
    "    while left < right:\n",
    "        if height[left] < height[right]:\n",
    "            if height[left] >= left_max:\n",
    "                left_max = height[left]\n",
    "            else:\n",
    "                result += left_max - height[left]\n",
    "            left += 1\n",
    "        else:\n",
    "            if height[right] >= right_max:\n",
    "                right_max = height[right]\n",
    "            else:\n",
    "                result += right_max - height[right]\n",
    "            right -= 1\n",
    "\n",
    "    return result\n",
    "\n",
    "height1 = [0,1,0,2,1,0,1,3,2,1,2,1,3]\n",
    "print(trap(height1))  \n",
    "\n",
    "# your algorithm time complexity is:O(n)"
   ],
   "outputs": [
    {
     "name": "stdout",
     "output_type": "stream",
     "text": [
      "11\n"
     ]
    }
   ],
   "execution_count": 11
  },
  {
   "cell_type": "markdown",
   "metadata": {},
   "source": [
    "## 问题 7 \n",
    "\n",
    "**股票投资组合优化**： 假设你是一位投资者，想要在不同的股票中分配你的资金，以最大化你的投资回报。每只股票都有不同的预期收益率和风险。你的目标是选择一些股票，使得总投资金额不超过你的预算，并且预期收益最大化。\n",
    "\n",
    "在这个情况下，你可以将每只股票视为一个“物品”，其重量为投资金额，价值为预期收益率。然后，你可以使用分级背包问题的方法来选择部分股票，以便在预算内获得最大的预期收益。\n",
    "\n",
    "以下是一个简化的例子：\n",
    "\n",
    "假设你有以下三只股票可供选择：\n",
    "\n",
    "1. 股票 A：投资金额 5000 美元，预期收益率 10%\n",
    "2. 股票 B：投资金额 3000 美元，预期收益率 8%\n",
    "3. 股票 C：投资金额 2000 美元，预期收益率 12%\n",
    "\n",
    "请设计算法找到最优投资方案，分析算法设计思路，计算时间复杂度，并基于python编程实现"
   ]
  },
  {
   "cell_type": "markdown",
   "metadata": {},
   "source": "idea：将每只股票视为一个物品，物品的重量是股票的投资金额。物品的价值是股票的预期收益率。目标是在不超过预算（背包容量）的前提下，选择若干个物品（股票），使得总价值（预期收益）最大。动态规划数组 dp[i][w] 表示前 i 只股票在总预算不超过 w 时的最大预期收益。若不选择第 i 只股票：dp[i][w] = dp[i-1][w]，若选择第 i 只股票：dp[i][w] = max(dp[i-1][w], dp[i-1][w - cost[i]] + value[i])，其中 cost[i] 和 value[i] 分别是第 i 只股票的投资金额和预期收益率。"
  },
  {
   "cell_type": "code",
   "metadata": {
    "ExecuteTime": {
     "end_time": "2025-05-07T08:49:55.421827Z",
     "start_time": "2025-05-07T08:49:55.398153Z"
    }
   },
   "source": [
    "# add your code here\n",
    "#参考了博客\n",
    "def max_profit(stocks, budget):\n",
    "    # stocks is a list of tuples (cost, value)\n",
    "    # Initialize a DP array where dp[w] represents the max value with budget w\n",
    "    dp = [0] * (budget + 1)\n",
    "\n",
    "    for cost, value in stocks:\n",
    "        # Update the DP array from right to left to avoid reusing the same stock\n",
    "        for w in range(budget, cost - 1, -1):\n",
    "            if dp[w - cost] + value > dp[w]:\n",
    "                dp[w] = dp[w - cost] + value\n",
    "\n",
    "    return dp[budget]\n",
    "\n",
    "stocks = [(5000, 10), (3000, 8), (2000, 12)]  # (投资金额, 预期收益率)\n",
    "budget = 15000  # 总预算\n",
    "\n",
    "print(f\"最大预期收益: {max_profit(stocks, budget)}%\")\n",
    "# your algorithm time complexity is:"
   ],
   "outputs": [
    {
     "name": "stdout",
     "output_type": "stream",
     "text": [
      "最大预期收益: 30%\n"
     ]
    }
   ],
   "execution_count": 13
  },
  {
   "cell_type": "markdown",
   "metadata": {},
   "source": [
    "## 问题 8\n",
    "\n",
    "给你二叉搜索树的根节点 root ，该树中的恰好两个节点的值被错误地交换。请在不改变其结构的情况下，恢复这棵树 。设计算法解决该问题，分析算法设计思路，计算时间复杂度，并基于python编程实现\n",
    "\n",
    "e.g.:\n",
    "---\n",
    "1.\n",
    "\n",
    "<div style=\"text-align:center;width:200px;\"> <img alt=\"\" src=\"./fig/hw3q9-1.jpg\"> </div>\n",
    "输入：root = [1,3,null,null,2]， 输出为：[3,1,null,null,2]， \n",
    "\n",
    "解释：3 不能是 1 的左孩子，因为 3 > 1 。交换 1 和 3 使二叉搜索树有效。\n",
    "\n",
    "2.\n",
    "\n",
    " <div style=\"text-align:center;width:200px;\"> <img alt=\"\" src=\"./fig/hw3q9-1.jpg\"> </div>\n",
    "输入： root=[3,1,4,null,null,2]， 输出为：[2,1,4,null,null,3]\n",
    "\n",
    "解释：2 不能在 3 的右子树中，因为 2 < 3 。交换 2 和 3 使二叉搜索树有效。"
   ]
  },
  {
   "cell_type": "markdown",
   "metadata": {},
   "source": "idea：中序遍历 BST，记录前一个节点，找到两个破坏顺序的节点 first 和 second。在中序遍历过程中，若当前节点值小于前驱节点值，则说明出现了一个交换点。第一个这样的点记录为 first，第二个这样的点记录为 second。特殊情况：如果整个遍历过程中只发现一个下降点（如交换的是相邻节点），则交换该下降点的前驱和当前节点。交换 first 和 second 节点的值.\n"
  },
  {
   "cell_type": "code",
   "metadata": {
    "ExecuteTime": {
     "end_time": "2025-05-07T09:27:17.352173Z",
     "start_time": "2025-05-07T09:27:17.339379Z"
    }
   },
   "source": [
    "# add your code here\n",
    "#参考了大模型\n",
    "class TreeNode:\n",
    "    def __init__(self, val=0, left=None, right=None):\n",
    "        self.val = val\n",
    "        self.left = left\n",
    "        self.right = right\n",
    "\n",
    "def recoverTree(root):\n",
    "    # 定义变量来存储前一个节点、第一个错误节点和第二个错误节点\n",
    "    prev = TreeNode(float('-inf'))\n",
    "    first = None\n",
    "    second = None\n",
    "\n",
    "    def inorder_traversal(node):\n",
    "        nonlocal prev, first, second\n",
    "        if not node:\n",
    "            return\n",
    "        # 中序遍历左子树\n",
    "        inorder_traversal(node.left)\n",
    "        # 检查当前节点是否小于前一个节点\n",
    "        if node.val < prev.val:\n",
    "            # 如果是第一次遇到这种情况，记录第一个错误节点\n",
    "            if not first:\n",
    "                first = prev\n",
    "            # 记录第二个错误节点\n",
    "            second = node\n",
    "        else:\n",
    "            # 更新前一个节点\n",
    "            prev = node\n",
    "        # 中序遍历右子树\n",
    "        inorder_traversal(node.right)\n",
    "\n",
    "    # 进行中序遍历\n",
    "    inorder_traversal(root)\n",
    "    # 交换两个错误节点的值\n",
    "    first.val, second.val = second.val, first.val\n",
    "\n",
    "# 辅助函数：构建树\n",
    "def build_tree_from_list(lst):\n",
    "    if not lst:\n",
    "        return None\n",
    "    nodes = [TreeNode(lst[i]) if lst[i] is not None else None for i in range(len(lst))]\n",
    "    for i in range(len(nodes)):\n",
    "        if nodes[i]:\n",
    "            left_idx = 2 * i + 1\n",
    "            right_idx = 2 * i + 2\n",
    "            if left_idx < len(nodes):\n",
    "                nodes[i].left = nodes[left_idx]\n",
    "            if right_idx < len(nodes):\n",
    "                nodes[i].right = nodes[right_idx]\n",
    "    return nodes[0] if nodes else None\n",
    "\n",
    "# 辅助函数：树转列表（按层序遍历）\n",
    "def tree_to_list(root):\n",
    "    if not root:\n",
    "        return []\n",
    "    result = []\n",
    "    queue = [root]\n",
    "    while queue:\n",
    "        node = queue.pop(0)\n",
    "        if node:\n",
    "            result.append(node.val)\n",
    "            queue.append(node.left)\n",
    "            queue.append(node.right)\n",
    "        else:\n",
    "            result.append(None)\n",
    "    # 删除末尾的 None 值\n",
    "    while result and result[-1] is None:\n",
    "        result.pop()\n",
    "    return result\n",
    "\n",
    "# 示例 1\n",
    "root1 = build_tree_from_list([1,3,None,None,2])\n",
    "recoverTree(root1)\n",
    "print(tree_to_list(root1))  # 输出 [3,1,None,None,2]\n",
    "\n",
    "# 示例 2\n",
    "root2 = build_tree_from_list([3,1,4,None,None,2])\n",
    "recoverTree(root2)\n",
    "print(tree_to_list(root2))  # 输出 [2,1,4,None,None,3]\n",
    "# your algorithm time complexity is: O(n)"
   ],
   "outputs": [
    {
     "name": "stdout",
     "output_type": "stream",
     "text": [
      "25\n",
      "1026\n"
     ]
    }
   ],
   "execution_count": 19
  },
  {
   "cell_type": "markdown",
   "metadata": {},
   "source": [
    "## 问题 9  \n",
    "\n",
    "给你一个二叉树的根节点 root ，树中每个节点都存放有一个 0 到 9 之间的数字。每条从根节点到叶节点的路径都代表一个数字：\n",
    "\n",
    "> 例如，从根节点到叶节点的路径 1 -> 2 -> 3 表示数字 123 。\n",
    "\n",
    "设计一个算法计算从根节点到叶节点生成的所有数字之和 ，分析算法设计思路，计算时间复杂度，并基于python编程实现\n",
    "\n",
    "叶节点:是指没有子节点的节点。\n",
    "\n",
    "e.g.:\n",
    "---\n",
    "1.\n",
    "\n",
    " <div style=\"text-align:center;width:200px;\"> <img alt=\"figure\" src=\"./fig/hw3q10-1.jpg\"> </div>\n",
    "\n",
    " 输入：root = [1,2,3], 输出：25\n",
    "\n",
    "解释：从根到叶子节点路径 1->2 代表数字 12，1->3 代表数字 13，因此和为 12 + 13 = 25 。\n",
    "\n",
    "2.\n",
    "\n",
    " <div style=\"text-align:center;width:200px;\"> <img alt=\"figure\" src=\"./fig/hw3q10-2.jpg\"> </div>\n",
    "\n",
    " 输入：root = [4,9,0,5,1], 输出：1026\n",
    "\n",
    "解释：从根到叶子节点路径 4->9->5 代表数字 495，4->9->1 代表数字 491，4->0 代表数字 40。因此和为 495 + 491 + 40 = 1026 。"
   ]
  },
  {
   "cell_type": "markdown",
   "metadata": {},
   "source": "idea：遍历二叉树。在遍历过程中，维护一个当前路径的数字值。每访问一个节点，就更新当前路径的数字值。当到达叶节点时，将当前路径的数字值累加到总和中。采用递归函数。递归函数接收当前节点和当前路径的数字值作为参数。在递归过程中，如果当前节点是叶节点，则返回当前路径的数字值；否则，递归处理左右子节点，并累加返回的结果。"
  },
  {
   "cell_type": "code",
   "metadata": {
    "ExecuteTime": {
     "end_time": "2025-05-07T09:38:52.436235Z",
     "start_time": "2025-05-07T09:38:52.420088Z"
    }
   },
   "source": [
    "# add your code here\n",
    "#参考大模型和博客\n",
    "class TreeNode:\n",
    "    def __init__(self, val=0, left=None, right=None):\n",
    "        self.val = val\n",
    "        self.left = left\n",
    "        self.right = right\n",
    "\n",
    "def sumNumbers(root):\n",
    "    def dfs(node, current_sum):\n",
    "        if not node:\n",
    "            return 0\n",
    "        current_sum = current_sum * 10 + node.val\n",
    "        if not node.left and not node.right:\n",
    "            return current_sum\n",
    "        return dfs(node.left, current_sum) + dfs(node.right, current_sum)\n",
    "    \n",
    "    return dfs(root, 0)\n",
    "\n",
    "def list_to_tree(lst):\n",
    "    if not lst:\n",
    "        return None\n",
    "    nodes = [TreeNode(val) if val is not None else None for val in lst]\n",
    "    root = nodes[0]\n",
    "    idx = 1\n",
    "    queue = [nodes[0]]\n",
    "    while queue:\n",
    "        node = queue.pop(0)\n",
    "        if node:\n",
    "            if idx < len(nodes):\n",
    "                node.left = nodes[idx]\n",
    "                queue.append(nodes[idx])\n",
    "                idx += 1\n",
    "            if idx < len(nodes):\n",
    "                node.right = nodes[idx]\n",
    "                queue.append(nodes[idx])\n",
    "                idx += 1\n",
    "    return root\n",
    "\n",
    "# 输入：root = [1,2,3]\n",
    "root = list_to_tree([1,2,3])\n",
    "print(sumNumbers(root))  # 输出 25\n",
    "\n",
    "\n",
    "# your algorithm time complexity is:O(n)"
   ],
   "outputs": [
    {
     "name": "stdout",
     "output_type": "stream",
     "text": [
      "25\n",
      "1026\n"
     ]
    }
   ],
   "execution_count": 21
  },
  {
   "cell_type": "markdown",
   "metadata": {},
   "source": [
    "## 问题 10  \n",
    "\n",
    "给你一个二叉树的根节点 root ， 检查它是否轴对称。\n",
    "\n",
    "1. 分析算法设计思路，计算时间复杂度，并基于python编程实现\n",
    "2. \\* 设计使用递归和迭代两种方法解决这个问题，计算时间复杂度，并基于python编程实现\n",
    "\n",
    "e.g.:\n",
    "---\n",
    "1.\n",
    "\n",
    " <div style=\"text-align:center;width:200px;\"> <img alt=\"figure\" src=\"./fig/hw3q11-1.png\"> </div>\n",
    "\n",
    " 输入：root = [1,2,2,3,4,4,3]， 输出：true\n",
    "\n",
    "解释：二叉树 [1,2,2,3,4,4,3] 对称。\n",
    "\n",
    "2.\n",
    "\n",
    " <div style=\"text-align:center;width:200px;\"> <img alt=\"figure\" src=\"./fig/hw3q11-2.png\"> </div>\n",
    "\n",
    " 输入：root = [1,2,2,null,3,null,3]， 输出：false"
   ]
  },
  {
   "cell_type": "markdown",
   "metadata": {},
   "source": "idea：首先将root转换为二叉树，然后检测是否对称，定义函数递归检查左子树和右子树是否镜像对称，递归终止条件：如果左节点和右节点都为空，返回True，如果其中一个节点为空，返回False，如果左节点值不等于右节点值，返回False。"
  },
  {
   "cell_type": "code",
   "metadata": {
    "ExecuteTime": {
     "end_time": "2025-05-07T09:53:25.931812Z",
     "start_time": "2025-05-07T09:53:25.921142Z"
    }
   },
   "source": [
    "# add your code here\n",
    "#参考大模型和博客\n",
    "class TreeNode:\n",
    "    def __init__(self, val=0, left=None, right=None):\n",
    "        self.val = val\n",
    "        self.left = left\n",
    "        self.right = right\n",
    "\n",
    "def isSymmetric(root):\n",
    "    if not root:\n",
    "        return True\n",
    "    \n",
    "    def is_mirror(left, right):\n",
    "        if not left and not right:\n",
    "            return True\n",
    "        if not left or not right:\n",
    "            return False\n",
    "        if left.val != right.val:\n",
    "            return False\n",
    "        return is_mirror(left.left, right.right) and is_mirror(left.right, right.left)\n",
    "    \n",
    "    return is_mirror(root.left, root.right)\n",
    "\n",
    "def list_to_tree(lst):\n",
    "    if not lst:\n",
    "        return None\n",
    "    nodes = [TreeNode(val) if val is not None else None for val in lst]\n",
    "    root = nodes[0]\n",
    "    idx = 1\n",
    "    queue = [nodes[0]]\n",
    "    while queue:\n",
    "        node = queue.pop(0)\n",
    "        if node:\n",
    "            if idx < len(nodes):\n",
    "                node.left = nodes[idx]\n",
    "                queue.append(nodes[idx])\n",
    "                idx += 1\n",
    "            if idx < len(nodes):\n",
    "                node.right = nodes[idx]\n",
    "                queue.append(nodes[idx])\n",
    "                idx += 1\n",
    "    return root\n",
    "\n",
    "root = list_to_tree([1, 2, 2,3,None,None,3])\n",
    "print(isSymmetric(root))  \n",
    "\n",
    "# your algorithm time complexity is:O(n)"
   ],
   "outputs": [
    {
     "name": "stdout",
     "output_type": "stream",
     "text": [
      "True\n",
      "False\n"
     ]
    }
   ],
   "execution_count": 26
  },
  {
   "cell_type": "markdown",
   "metadata": {},
   "source": [
    "## 问题 11  \n",
    "\n",
    "给你一个由 '1'（陆地）和 '0'（水）组成的的二维网格，请你计算网格中岛屿的数量。岛屿总是被水包围，并且每座岛屿只能由水平方向和/或竖直方向上相邻的陆地连接形成。\n",
    "\n",
    "此外，你可以假设该网格的四条边均被水包围。\n",
    "\n",
    "分析算法设计思路，计算时间复杂度，并基于python编程实现\n",
    "\n",
    "e.g.:\n",
    "---\n",
    "1.\n",
    "输入：grid = [\n",
    "\n",
    "    [\"1\",\"1\",\"1\",\"1\",\"0\"],\n",
    "\n",
    "    [\"1\",\"1\",\"0\",\"1\",\"0\"], \n",
    "\n",
    "    [\"1\",\"1\",\"0\",\"0\",\"0\"], \n",
    "\n",
    "    [\"0\",\"0\",\"0\",\"0\",\"0\"]  \n",
    "\n",
    "]\n",
    "\n",
    "输出：1\n",
    "\n",
    "2.\n",
    "输入：grid = [\n",
    "\n",
    "    [\"1\",\"1\",\"0\",\"0\",\"0\"],\n",
    "\n",
    "    [\"1\",\"1\",\"0\",\"0\",\"0\"],\n",
    "\n",
    "    [\"0\",\"0\",\"1\",\"0\",\"0\"],\n",
    "\n",
    "    [\"0\",\"0\",\"0\",\"1\",\"1\"]\n",
    "\n",
    "]\n",
    "\n",
    "输出：3"
   ]
  },
  {
   "cell_type": "markdown",
   "metadata": {},
   "source": "idea:创建一个与网格大小相同的二维数组 visited，用于记录每个单元格是否被访问过。对于每个单元格，如果它是陆地且未被访问过，则启动深度优先搜索。将当前单元格标记为已访问，并递归地检查其上下左右四个方向的相邻单元格。如果相邻单元格是陆地且未被访问过，则继续。每次启动深度优先搜索时，岛屿计数加一。"
  },
  {
   "cell_type": "code",
   "metadata": {
    "ExecuteTime": {
     "end_time": "2025-05-07T10:08:27.540257Z",
     "start_time": "2025-05-07T10:08:27.522322Z"
    }
   },
   "source": [
    "# add your code here\n",
    "#参考大模型和博客\n",
    "def numIslands(grid):\n",
    "    if not grid:\n",
    "        return 0\n",
    "    \n",
    "    rows, cols = len(grid), len(grid[0])\n",
    "    visited = [[False for _ in range(cols)] for _ in range(rows)]\n",
    "    count = 0\n",
    "    \n",
    "    def dfs(r, c):\n",
    "        if r < 0 or r >= rows or c < 0 or c >= cols or grid[r][c] == '0' or visited[r][c]:\n",
    "            return\n",
    "        visited[r][c] = True\n",
    "        dfs(r + 1, c)\n",
    "        dfs(r - 1, c)\n",
    "        dfs(r, c + 1)\n",
    "        dfs(r, c - 1)\n",
    "    \n",
    "    for i in range(rows):\n",
    "        for j in range(cols):\n",
    "            if grid[i][j] == '1' and not visited[i][j]:\n",
    "                dfs(i, j)\n",
    "                count += 1\n",
    "    \n",
    "    return count\n",
    "\n",
    "\n",
    "grid1 = [\n",
    "    [\"1\",\"1\",\"1\",\"1\",\"0\"],\n",
    "    [\"1\",\"1\",\"0\",\"1\",\"0\"],\n",
    "    [\"1\",\"1\",\"0\",\"0\",\"0\"],\n",
    "    [\"0\",\"0\",\"0\",\"0\",\"0\"]\n",
    "]\n",
    "print(numIslands(grid1))  \n",
    "\n",
    "\n",
    "# your algorithm time complexity is:O(m×n),m,n为网格的行和列"
   ],
   "outputs": [
    {
     "name": "stdout",
     "output_type": "stream",
     "text": [
      "1\n",
      "3\n"
     ]
    }
   ],
   "execution_count": 27
  }
 ],
 "metadata": {
  "language_info": {
   "name": "python"
  },
  "kernelspec": {
   "name": "python3",
   "language": "python",
   "display_name": "Python 3 (ipykernel)"
  }
 },
 "nbformat": 4,
 "nbformat_minor": 2
}
