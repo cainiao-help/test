{
 "cells": [
  {
   "cell_type": "markdown",
   "metadata": {},
   "source": [
    "## algorithm design and anlysis-2025 spring  homework 2\n",
    "**Deadline**：2025.5.14\n",
    "\n",
    "**name**:\n",
    "\n",
    "\n",
    "note：\n",
    "---\n",
    "1. 带有\\*的题目，申请免上课的同学，必须完成，其他同学选作；\n",
    "2. 请独立完成，如求助了他人或者大模型，请著明，并且不可省略算法分析部分；\n",
    "4. 如若作答有雷同，全部取消成绩；\n",
    "3. 需要书面作答的题目，可以通过引用图片的形式添加，但是注意上传项目时包含所引用的图片的源文件；\n",
    "4. $log_n$ 默认表示$log_2{n}$;"
   ]
  },
  {
   "cell_type": "markdown",
   "metadata": {},
   "source": [
    "## 问题 1  \n",
    "\n",
    "> 给定一个已排序的链表的头 `head` ， *删除所有重复的元素，使每个元素只出现一次* 。返回 *已排序的链表* 。链表的类如下所示：\n",
    "\n",
    "```python\n",
    "class NodeList:\n",
    "    def __init__(self, val=None, right=None):\n",
    "        self.val   = val\n",
    "        self.right = right\n",
    "```\n",
    "\n",
    "输入是一个数组，你首先需要将数组转化为链表，然后删除链表中的重复元素，再遍历链表元素，以一个数组的形式返回。请设计一个算法解决上述任务，分析算法设计思路，计算时间复杂度, 并基于python编程实现。\n",
    "\n",
    "e.g.  输入：head=[1, 1, 2, 3, 3]   输出：[1, 2, 3]\n",
    "\n",
    "![image-20240502110020439](./fig/hw2q1.png)\n",
    "\n"
   ]
  },
  {
   "cell_type": "markdown",
   "metadata": {},
   "source": "idea：步骤1：将输入数组转换为链表。初始化头节点，然后依次创建节点并链接。步骤2：使用单个指针遍历链表。如果当前节点的值与下一个节点的值相同，删除下一个节点；否则，移动指针到下一个节点。步骤3：将处理后的链表转换为数组，以便返回结果。数组转链表、删除链表重复节点、链表转数组。每个步骤的时间复杂度均为O(n)，因此总时间复杂度为O(n)。"
  },
  {
   "cell_type": "code",
   "metadata": {
    "ExecuteTime": {
     "end_time": "2025-05-12T01:48:24.508259Z",
     "start_time": "2025-05-12T01:48:24.499373Z"
    }
   },
   "source": [
    "# add your idea here\n",
    "class NodeList:\n",
    "    def __init__(self, val=None, right=None):\n",
    "        self.val = val\n",
    "        self.right = right\n",
    "\n",
    "def array_to_linked_list(arr):\n",
    "    if not arr:\n",
    "        return None\n",
    "    head = NodeList(arr[0])\n",
    "    current = head\n",
    "    for val in arr[1:]:\n",
    "        current.right = NodeList(val)\n",
    "        current = current.right\n",
    "    return head\n",
    "\n",
    "def delete_duplicates(head):\n",
    "    if not head or not head.right:\n",
    "        return head\n",
    "    current = head\n",
    "    while current.right:\n",
    "        if current.val == current.right.val:\n",
    "            current.right = current.right.right\n",
    "        else:\n",
    "            current = current.right\n",
    "    return head\n",
    "\n",
    "def linked_list_to_array(head):\n",
    "    res = []\n",
    "    current = head\n",
    "    while current:\n",
    "        res.append(current.val)\n",
    "        current = current.right\n",
    "    return res\n",
    "\n",
    "def remove_duplicates(arr):\n",
    "    head = array_to_linked_list(arr)\n",
    "    head = delete_duplicates(head)\n",
    "    return linked_list_to_array(head)\n",
    "\n",
    "head=[1, 1, 2, 3,1, 3]\n",
    "print(remove_duplicates(head))\n",
    "# your algorithm time complexity is:O(n)"
   ],
   "outputs": [
    {
     "name": "stdout",
     "output_type": "stream",
     "text": [
      "[1, 2, 3, 1, 3]\n"
     ]
    }
   ],
   "execution_count": 3
  },
  {
   "cell_type": "markdown",
   "metadata": {},
   "source": [
    "## 问题 2  \n",
    "\n",
    "> 下面是一个经典的算法问题：\n",
    ">\n",
    "> - 给定包含n个整数的一个整数数组 `nums` 和一个整数目标值 `target`，请你在该数组中找出 **和为目标值** *`target`* 的那 **两个** 整数，并返回它们的**数组下标**。假设每种输入只会对应一个答案。但是，数组中同一个元素在答案里不能重复出现。你可以按任意顺序返回答案。\n",
    ">\n",
    "> 由于要多次查找数组中元素的位置，为了提高查询效率可以使用哈希表来存储数组中的数据，在哈希表中查询一个元素的复杂度为O(1)。 已知python中的字典是使用哈希表实现的，即使用`dict[key]`查询对应的value时间复杂度为O(1), python提供了查询字典是否包含某个key的功能：`key in dict`，时间复杂度也是O(1)\n",
    "\n",
    "请根据上面信息，设计一个时间复杂度为O(n) 的算法，解决上述算法问题\n",
    "\n",
    "e.g.   \n",
    "\n",
    "输入：nums=[2,7,11,15], target=9， 输出：[0，1]\n",
    "\n",
    "输入：nums=[3,2,4], target=6, 输出：[1,2]\n",
    "\n",
    "输入：nums=[3,3], target=6,  输出：[0,1]\n"
   ]
  },
  {
   "metadata": {},
   "cell_type": "markdown",
   "source": "idea:遍历数组，对每个元素，计算目标值与当前元素的差值，然后检查哈希表中是否已存在该差值。如果存在，返回当前元素的下标和差值的下标。只需要遍历一次数组，因此时间复杂度为O(n)"
  },
  {
   "cell_type": "code",
   "metadata": {
    "ExecuteTime": {
     "end_time": "2025-05-07T05:07:14.892712Z",
     "start_time": "2025-05-07T05:07:14.886100Z"
    }
   },
   "source": [
    "# add your idea here\n",
    "\n",
    "def twoSum(nums, target):\n",
    "    hashmap = {}\n",
    "    for idx, num in enumerate(nums):\n",
    "        complement = target - num\n",
    "        if complement in hashmap:\n",
    "            return [hashmap[complement], idx]\n",
    "        hashmap[num] = idx\n",
    "    return []\n",
    "\n",
    "nums=[3,2,4]\n",
    "target=6\n",
    "twoSum(nums,target)\n",
    "# your algorithm time complexity is: O(n)"
   ],
   "outputs": [
    {
     "data": {
      "text/plain": [
       "[1, 2]"
      ]
     },
     "execution_count": 3,
     "metadata": {},
     "output_type": "execute_result"
    }
   ],
   "execution_count": 3
  },
  {
   "cell_type": "markdown",
   "metadata": {},
   "source": [
    "## 问题 3:   \n",
    "\n",
    "> 栈是一种常用的数据结构，编译器中通常使用栈来实现表达式求值。\n",
    ">\n",
    "> 以表达式 $3+5 \\times 8-6$​ 为例。编译器使用两个栈来完成运算，即一个栈保持操作数，另一个栈保存运算符。\n",
    ">\n",
    "> 1. 从左向右遍历表达式，遇到数字就压入操作数栈；\n",
    ">\n",
    "> 2. 遇到运算符，就与运算符栈的栈顶元素进行比较。如果比运算符栈顶元素的优先级高，就将当前运算符压入栈；如果比运算符栈顶元素的优先级低或者相同，从运算符栈中取栈顶运算符，从操作数栈的栈顶取 2 个操作数，然后进行计算，再把计算完的结果压入操作数栈，继续比较。\n",
    ">\n",
    "> 下图是 $3+5 \\times 8-6$  这个表达式的计算过程：\n",
    "\n",
    "![figure](./fig/hw2q3.png)\n",
    "\n",
    "根据上述原理，请设计一个算法完成表达式的运算，当输入为表达式字符串，返回对应的计算结果。分析算法设计思路，计算时间复杂度，并基于python编程实现\n",
    "\n",
    "**note：**\n",
    "\n",
    "1. 假设输入的表达式只会出现加（“+”），减 “-”， 乘“*”，除 “/” 四个运算符, 表达式中只会出现正整数\n",
    "2. python中` str.isdigit()`函数可以判断字符串str是否为数字，\n",
    "\n",
    "\n",
    "\n",
    "e.g. :\n",
    "---\n",
    "\n",
    "1. 输入：“$3+5 * 8 -6$”   输出：37\n",
    "\n",
    "2. 输入：“$34+13*9 + 44-12/3$”  输出：191"
   ]
  },
  {
   "cell_type": "markdown",
   "metadata": {},
   "source": "idea：当遇到数字时，将其压入操作数栈，当遇到运算符时，与运算符栈的栈顶元素比较优先级,如果当前运算符优先级高，压入运算符栈,如果当前运算符优先级低或相等，弹出运算符栈顶运算符，弹出操作数栈的两个操作数，进行计算，结果压入操作数栈，继续比较。"
  },
  {
   "cell_type": "code",
   "metadata": {
    "ExecuteTime": {
     "end_time": "2025-05-09T05:40:07.621575Z",
     "start_time": "2025-05-09T05:40:07.599660Z"
    }
   },
   "source": [
    "# add your idea here\n",
    "\n",
    "def evaluate_expression(expression):\n",
    "    # 定义运算符的优先级\n",
    "    precedence = {'+': 1, '-': 1, '*': 2, '/': 2}\n",
    "    \n",
    "    # 初始化栈\n",
    "    operand_stack = []  # 操作数栈\n",
    "    operator_stack = []  # 运算符栈\n",
    "    \n",
    "    # 遍历表达式中的每个字符\n",
    "    i = 0\n",
    "    while i < len(expression):\n",
    "        char = expression[i]\n",
    "        \n",
    "        # 如果是数字（可能多字符），读取完整数字\n",
    "        if char.isdigit():\n",
    "            num = 0\n",
    "            while i < len(expression) and expression[i].isdigit():\n",
    "                num = num * 10 + int(expression[i])\n",
    "                i += 1\n",
    "            operand_stack.append(num)\n",
    "            continue  # 因为数字可能占多个字符，i 已经递增\n",
    "        \n",
    "        # 如果是运算符\n",
    "        if char in precedence:\n",
    "            # 如果运算符栈不为空，并且栈顶运算符优先级大于等于当前运算符\n",
    "            while operator_stack and precedence[operator_stack[-1]] >= precedence[char]:\n",
    "                # 弹出栈顶运算符和两个操作数\n",
    "                op = operator_stack.pop()\n",
    "                b = operand_stack.pop()\n",
    "                a = operand_stack.pop()\n",
    "                # 计算结果\n",
    "                if op == '+':\n",
    "                    result = a + b\n",
    "                elif op == '-':\n",
    "                    result = a - b\n",
    "                elif op == '*':\n",
    "                    result = a * b\n",
    "                elif op == '/':\n",
    "                    result = a // b  # 使用整数除法\n",
    "                # 将结果压回操作数栈\n",
    "                operand_stack.append(result)\n",
    "            # 将当前运算符压入栈\n",
    "            operator_stack.append(char)\n",
    "        i += 1\n",
    "    \n",
    "    # 遍历结束，弹出剩余的运算符并计算\n",
    "    while operator_stack:\n",
    "        op = operator_stack.pop()\n",
    "        b = operand_stack.pop()\n",
    "        a = operand_stack.pop()\n",
    "        if op == '+':\n",
    "            result = a + b\n",
    "        elif op == '-':\n",
    "            result = a - b\n",
    "        elif op == '*':\n",
    "            result = a * b\n",
    "        elif op == '/':\n",
    "            result = a // b\n",
    "        operand_stack.append(result)\n",
    "    \n",
    "    return operand_stack[0]\n",
    "\n",
    "expression = \"33 + 56\"\n",
    "result = evaluate_expression(expression)\n",
    "print(result)  \n",
    "# your algorithm time complexity is: O(n)"
   ],
   "outputs": [
    {
     "name": "stdout",
     "output_type": "stream",
     "text": [
      "89\n"
     ]
    }
   ],
   "execution_count": 1
  },
  {
   "cell_type": "markdown",
   "metadata": {},
   "source": [
    "## 问题 4:  \n",
    "\n",
    "> 星球碰撞问题：现有n个星球，在同一条直线上运行，如数组A所示，元素的绝对值表示星球的质量，负数表示星球自右向左运动，正数表示星球自左向右运动，当两个星球相撞的时候，质量小的会消失，大的保持不变，**质量相同的两个星球碰撞后自右向左运动的星球消失，自左向右的星球保持不变**，假设所有星球的速度大小相同。\n",
    ">\n",
    "> $ A=[23,-8, 9, -3, -7, 9, -23, 22] $\n",
    "\n",
    "请设计一个算法模拟星球的运行情况，输出最终的星球存续情况（输出一个数组），分析算法设计思路，计算时间复杂度，并基于python编程实现。\n",
    "\n",
    "e.g.\n",
    "---\n",
    "1.  输入： A=[-3,-6,2,8, 5,-8,9,-2,1]， 输出：[-3, -6, 2, 8, 9, 1]\n",
    "\n",
    "2. 输入：A=[23,-8, 9, -3, -7, 9, -23, 22], 输出：[23, 22]\n",
    "\n"
   ]
  },
  {
   "metadata": {},
   "cell_type": "code",
   "outputs": [],
   "execution_count": null,
   "source": "#idea：用一个栈来记录当前还存在的行星。栈顶就是当前最右边的行星。这样我们可以依次处理每个行星，并且检查它是否会和栈顶的行星发生碰撞。初始化一个空栈。从左到右依次处理数组中的每个行星。对于当前处理的行星，检查栈顶的行星是否和它相向运动（栈顶正数，当前负数），这是发生碰撞的条件。如果发生碰撞，比较两者质量"
  },
  {
   "metadata": {
    "ExecuteTime": {
     "end_time": "2025-05-12T02:14:42.451396Z",
     "start_time": "2025-05-12T02:14:42.437619Z"
    }
   },
   "cell_type": "code",
   "source": [
    "# add your idea here\n",
    "def asteroidCollision(sum):\n",
    "    stack = []\n",
    "    for num in sum:\n",
    "        while stack and stack[-1] > 0 and num < 0:\n",
    "            top = stack[-1]\n",
    "            if top < abs(num):\n",
    "                stack.pop()\n",
    "            else:\n",
    "                if top == abs(num):\n",
    "                    pass  # Both planets are destroyed, but top remains as per problem statement\n",
    "                break\n",
    "        else:\n",
    "            stack.append(num)\n",
    "    return stack\n",
    "\n",
    "A=[23,-8, 9, -3, -7, 9, -23, 22]\n",
    "print(asteroidCollision(A))\n",
    "# your algorithm time complexity is:O(n)"
   ],
   "outputs": [
    {
     "name": "stdout",
     "output_type": "stream",
     "text": [
      "[23, 22]\n"
     ]
    }
   ],
   "execution_count": 7
  },
  {
   "cell_type": "markdown",
   "metadata": {},
   "source": [
    "## 问题 5 \n",
    "\n",
    "> 给定一个无序数组nums=[9,-3,-10,0,9,7,33]，请建立一个二叉搜索树存储数组中的所有元素，之后删除二叉树中的元素“0”，再使用中序遍历输出二叉搜索树中的所有元素。\n",
    "\n",
    "使用python编程完成上述任务，并计算时间复杂度\n"
   ]
  },
  {
   "cell_type": "code",
   "metadata": {
    "ExecuteTime": {
     "end_time": "2025-05-12T03:44:24.960250Z",
     "start_time": "2025-05-12T03:44:24.928843Z"
    }
   },
   "source": [
    "# add your idea here\n",
    "#参考大模型\n",
    "# 定义二叉搜索树的节点类\n",
    "class TreeNode:\n",
    "    def __init__(self, val=0, left=None, right=None):\n",
    "        self.val = val\n",
    "        self.left = left\n",
    "        self.right = right\n",
    "\n",
    "# 构建二叉搜索树\n",
    "def build_bst(nums):\n",
    "    root = None\n",
    "    for num in nums:\n",
    "        root = insert_into_bst(root, num)\n",
    "    return root\n",
    "\n",
    "# 插入元素到二叉搜索树\n",
    "def insert_into_bst(root, val):\n",
    "    if not root:\n",
    "        return TreeNode(val)\n",
    "    if val < root.val:\n",
    "        root.left = insert_into_bst(root.left, val)\n",
    "    elif val > root.val:\n",
    "        root.right = insert_into_bst(root.right, val)\n",
    "    # 如果值相等，插入到左子树（或右子树，这里选择左子树）\n",
    "    else:\n",
    "        root.left = insert_into_bst(root.left, val)\n",
    "    return root\n",
    "\n",
    "# 删除二叉搜索树中的元素\n",
    "def delete_node(root, key):\n",
    "    if not root:\n",
    "        return root\n",
    "    if key < root.val:\n",
    "        root.left = delete_node(root.left, key)\n",
    "    elif key > root.val:\n",
    "        root.right = delete_node(root.right, key)\n",
    "    else:\n",
    "        # 要删除的节点有两个子节点\n",
    "        if root.left and root.right:\n",
    "            # 找到右子树的最小节点\n",
    "            min_node = root.right\n",
    "            while min_node.left:\n",
    "                min_node = min_node.left\n",
    "            # 将当前节点的值替换为右子树最小节点的值\n",
    "            root.val = min_node.val\n",
    "            # 删除右子树的最小节点\n",
    "            root.right = delete_node(root.right, min_node.val)\n",
    "        # 要删除的节点只有一个子节点或没有子节点\n",
    "        else:\n",
    "            child = root.left if root.left else root.right\n",
    "            root = child\n",
    "    return root\n",
    "\n",
    "# 中序遍历\n",
    "def inorder_traversal(root):\n",
    "    result = []\n",
    "    def dfs(node):\n",
    "        if node:\n",
    "            dfs(node.left)\n",
    "            result.append(node.val)\n",
    "            dfs(node.right)\n",
    "    dfs(root)\n",
    "    return result\n",
    "\n",
    "# 给定数组\n",
    "nums = [9, -3, -10, 0, 9, 7, 33]\n",
    "\n",
    "# 建立二叉搜索树\n",
    "bst_root = build_bst(nums)\n",
    "\n",
    "\n",
    "# 删除元素 0\n",
    "bst_root = delete_node(bst_root, 0)\n",
    "\n",
    "# 中序遍历输出\n",
    "print(inorder_traversal(bst_root))\n",
    "# your algorithm time complexity is:O(nlogn)"
   ],
   "outputs": [
    {
     "name": "stdout",
     "output_type": "stream",
     "text": [
      "[-10, -3, 7, 9, 9, 33]\n"
     ]
    }
   ],
   "execution_count": 10
  },
  {
   "cell_type": "markdown",
   "metadata": {},
   "source": [
    "## 问题 6  \n",
    "\n",
    "> 给定一个包含大写字母和小写字母的字符串 s ，返回 字符串包含的 **最长的回文子串的长度** 。请注意 区分大小写 。比如 \"Aa\" 不能当做一个回文字符串。\n",
    ">\n",
    "\n",
    "请设计一个算法解决上述问题，只需要输出最长回文子串的长度，分析算法设计思路，计算时间复杂度，并基于python编程实现\n",
    "\n",
    "e.g. 输入： s=\"adccaccd\"，  输出：7。 最长回文子串为：\"dccaccd\", 长度为7\n"
   ]
  },
  {
   "cell_type": "markdown",
   "metadata": {},
   "source": "idea：回文子串的中心可能是一个字符（奇数长度）或者两个字符（偶数长度）可以通过在每个可能的中心位置进行扩展，找到所有可能的回文子串，并记录其中长度最大的那个。"
  },
  {
   "cell_type": "code",
   "metadata": {
    "ExecuteTime": {
     "end_time": "2025-05-12T03:45:29.392417Z",
     "start_time": "2025-05-12T03:45:29.381196Z"
    }
   },
   "source": [
    "# add your idea here\n",
    "#参考博客\n",
    "def longest_palindrome(s: str) -> int:\n",
    "    \n",
    "    if not s:\n",
    "        return 0\n",
    "    \n",
    "    n = len(s)\n",
    "    max_len = 0\n",
    "    \n",
    "    # 遍历每个可能的中心位置\n",
    "    for i in range(n):\n",
    "        # 奇数长度回文子串\n",
    "        l, r = i, i\n",
    "        while l >= 0 and r < n and s[l] == s[r]:\n",
    "            current_len = r - l + 1\n",
    "            if current_len > max_len:\n",
    "                max_len = current_len\n",
    "            l -= 1\n",
    "            r += 1\n",
    "        \n",
    "        # 偶数长度回文子串\n",
    "        l, r = i, i + 1\n",
    "        while l >= 0 and r < n and s[l] == s[r]:\n",
    "            current_len = r - l + 1\n",
    "            if current_len > max_len:\n",
    "                max_len = current_len\n",
    "            l -= 1\n",
    "            r += 1\n",
    "    \n",
    "    return max_len\n",
    "\n",
    "# 测试示例\n",
    "s = \"adccaccd\"\n",
    "print(longest_palindrome(s))  # 输出\n",
    "# your algorithm time complexity is:O(n²)\n"
   ],
   "outputs": [
    {
     "name": "stdout",
     "output_type": "stream",
     "text": [
      "7\n"
     ]
    }
   ],
   "execution_count": 11
  },
  {
   "cell_type": "markdown",
   "metadata": {},
   "source": [
    "## 问题 7 \n",
    "\n",
    "> 沿一条长河流分散着n座房子。你可以把这条河想象成一条轴，房子是由它们在这条轴上的坐标按顺序排列的。你的公司想在河边的特定地点设置手机基站，这样每户人家都在距离基站4公里的范围内。输入可以看作为一个升序数组，数组元素的取值为大于等于0的正整数，你需要输出最小基站的数目，基站的位置。\n",
    "\n",
    "1. 给出一个时间复杂度为$O(n$) 的算法，使所使用的基站数量最小化，分析算法设计思路，使用python编程实现\n",
    "2. 证明1.中算法产生了最优解决方案。\n",
    "\n",
    "e.g. \n",
    "\n",
    "输入： [1, 5, 12, 33, 34,35]  输出：基站数目为3， 基站位置为[1，12，33]\n",
    "\n"
   ]
  },
  {
   "cell_type": "markdown",
   "metadata": {},
   "source": "idea：初始化一个基站位置列表，用于存储所有基站的位置设，置一个指针来遍历房子位置数组，初始值为0，设置一个最大覆盖距离4 公里，用于决定基站的最小覆盖范围。当指针指向一个房子时，选择这个房子的位置作为第一个基站位置。然后，从这个位置开始向后找，找到最远一个能在4 公里内覆盖的房子。这个房子的索引加1 的位置就是下一个指针的起始位置。如果指针超出数组范围，则结束循环并输出基站数目和位置。"
  },
  {
   "cell_type": "code",
   "metadata": {
    "ExecuteTime": {
     "end_time": "2025-05-07T06:20:41.452452Z",
     "start_time": "2025-05-07T06:20:41.442510Z"
    }
   },
   "source": [
    "# add your idea here\n",
    "#参考博客\n",
    "def minimal_base_stations(houses):\n",
    "    if not houses:\n",
    "        return 0, []\n",
    "    \n",
    "    stations = []\n",
    "    idx = 0\n",
    "    max_coverage = 4\n",
    "    \n",
    "    while idx < len(houses):\n",
    "        # 当前选择的基站位置为当前房子的位置\n",
    "        station_position = houses[idx]\n",
    "        stations.append(station_position)\n",
    "        \n",
    "        # 找到最远能被这个基站覆盖的房子的位置\n",
    "        while idx < len(houses) and houses[idx] <= station_position + max_coverage:\n",
    "            idx += 1\n",
    "    \n",
    "    return len(stations), stations\n",
    "\n",
    "# 测试示例\n",
    "houses = [1, 5, 12, 30, 33, 34, 35]\n",
    "num_stations, station_positions = minimal_base_stations(houses)\n",
    "print(f\"基站数目为{num_stations}, 基站位置为{station_positions}\")\n",
    "# your algorithm time complexity is:"
   ],
   "outputs": [
    {
     "name": "stdout",
     "output_type": "stream",
     "text": [
      "基站数目为4, 基站位置为[1, 12, 30, 35]\n"
     ]
    }
   ],
   "execution_count": 21
  },
  {
   "cell_type": "markdown",
   "metadata": {},
   "source": [
    "## 问题 8  \n",
    "\n",
    "> 给定由n个正整数组成的一个集合$S = \\{a_1, a_2，···，a_n\\}$和一个正整数W，设计一个算法确定是否存在S的一个子集 $K \\subseteq S$, 使K中所有数之和为 $W$, 如果存在返回“True”，否则返回“False”\n",
    "\n",
    "请设计一个时间复杂度为$O(nW)$动态规划算法，解决上述问题，分析算法的设计思路，并且基于python编程实现（不需要输出子集）。\n",
    "\n",
    "e.g. \n",
    "\n",
    "输入：S = {1,4,7,3,5}， W = 11，输出：True。   因为K可以是{4,7}。\n",
    "\n"
   ]
  },
  {
   "cell_type": "markdown",
   "metadata": {},
   "source": "idea：构建一个二维布尔数组 dp，其中 dp[i][j] 表示前 i 个元素是否能够组成和为 j 的子集。创建一个二维数组 dp，其中 dp[i][j] 表示前 i 个元素是否能够组成和为 j 的子集。初始化 dp[0][0] = True，表示和为 0 可以被空集组成。对于其他 j，dp[0][j] = False，因为空集无法组成非零和。如果不包含 ai，则 dp[i][j] = dp[i-1][j]。如果包含 ai，则 dp[i][j] = dp[i-1][j - a_i]，前提是 j≥a i。综合起来，dp[i][j] = dp[i-1][j] or dp[i-1][j - a_i]。如果 dp[n][W] 为 True，则存在这样的子集，返回 True；否则返回 False。"
  },
  {
   "cell_type": "code",
   "metadata": {
    "ExecuteTime": {
     "end_time": "2025-05-07T06:27:21.664306Z",
     "start_time": "2025-05-07T06:27:21.652888Z"
    }
   },
   "source": [
    "# add your idea here\n",
    "def is_subset_sum(S, W):\n",
    "    # 将集合转换为列表\n",
    "    S = list(S)\n",
    "    n = len(S)\n",
    "    # 创建动态规划表，初始化为 False\n",
    "    dp = [[False] * (W + 1) for _ in range(n + 1)]\n",
    "    \n",
    "    # 初始化 dp[0][0] = True，其他 dp[0][j] = False\n",
    "    for j in range(W + 1):\n",
    "        dp[0][j] = False\n",
    "    dp[0][0] = True\n",
    "    \n",
    "    for i in range(1, n + 1):\n",
    "        for j in range(W + 1):\n",
    "            if j < S[i-1]:\n",
    "                dp[i][j] = dp[i-1][j]\n",
    "            else:\n",
    "                dp[i][j] = dp[i-1][j] or dp[i-1][j - S[i-1]]\n",
    "    \n",
    "    return dp[n][W]\n",
    "\n",
    "# 测试示例\n",
    "S = {1, 4, 7, 3, 5}\n",
    "W = 11\n",
    "print(is_subset_sum(S, W))  \n",
    "# your algorithm time complexity is: O(nW)"
   ],
   "outputs": [
    {
     "name": "stdout",
     "output_type": "stream",
     "text": [
      "True\n"
     ]
    }
   ],
   "execution_count": 29
  },
  {
   "cell_type": "markdown",
   "metadata": {},
   "source": [
    "\n",
    "\n",
    "## 问题 9 \n",
    "\n",
    "> 给定一个n个物品的集合。物体的重量为$w_1, w_2，…、w_n$，物品的价值分别是$v_1、v_2、…v_n$。给你**两个**重量为 $c$ 的背包。如果你带了一个东西，它可以放在一个背包里，也可以放在另一个背包里，但不能同时放在两个背包里。所有权重和价值都是正整数。\n",
    "\n",
    "1. 设计一个时间复杂度为 $O(nc^2)$ 的动态规划算法，确定可以放入两个背包的物体的最大价值。分析算法设计思路，并基于python编程实现\n",
    "2. \\* 修改1中的算法，输出每个背包的内容（物品对应下标）。\n",
    "\n",
    "e.g.: \n",
    "\n",
    "输入 V=[1,3,2,5,8,7], W=[1,3,2,5,8,7], c=7, 输出：最大价值=14，背包装的物品为：[6] [4，3] （同一个背包中物品装入顺序对结果无影响）  \n"
   ]
  },
  {
   "metadata": {},
   "cell_type": "markdown",
   "source": ""
  },
  {
   "cell_type": "markdown",
   "metadata": {},
   "source": "idea：定义一个三维动态规划表 dp，其中 dp[i][j][k] 表示前 i 个物品，第一个背包当前重量为 j，第二个背包当前重量为 k 时的最大价值。对于每个物品，考虑将其放入第一个背包、放入第二个背包或不放入任何背包。初始化 dp[0][0][0] = 0，表示没有物品时两个背包的最大价值为0，遍历 dp[n][j][k]，找到最大值。"
  },
  {
   "cell_type": "code",
   "metadata": {
    "ExecuteTime": {
     "end_time": "2025-05-07T06:37:01.165633Z",
     "start_time": "2025-05-07T06:37:01.149033Z"
    }
   },
   "source": [
    "# add your idea here \n",
    "#参考大模型\n",
    "def max_value_two_backpacks(V, W, c):\n",
    "    n = len(V)\n",
    "    # 创建三维动态规划表\n",
    "    dp = [[[0]*(c+1) for _ in range(c+1)] for __ in range(n+1)]\n",
    "    \n",
    "    for i in range(1, n+1):\n",
    "        for j in range(c+1):\n",
    "            for k in range(c+1):\n",
    "                if W[i-1] > j and W[i-1] > k:\n",
    "                    dp[i][j][k] = dp[i-1][j][k]\n",
    "                elif W[i-1] <= j:\n",
    "                    dp[i][j][k] = max(dp[i-1][j][k], dp[i-1][j - W[i-1]][k] + V[i-1])\n",
    "                elif W[i-1] <= k:\n",
    "                    dp[i][j][k] = max(dp[i-1][j][k], dp[i-1][j][k - W[i-1]] + V[i-1])\n",
    "                else:\n",
    "                    dp[i][j][k] = dp[i-1][j][k]\n",
    "    \n",
    "    max_val = 0\n",
    "    for j in range(c+1):\n",
    "        for k in range(c+1):\n",
    "            if dp[n][j][k] > max_val:\n",
    "                max_val = dp[n][j][k]\n",
    "    return max_val\n",
    "\n",
    "# 测试示例\n",
    "V = [1, 3, 2, 5, 8, 7]\n",
    "W = [1, 3, 2, 5, 8, 7]\n",
    "c = 7\n",
    "print(\"最大价值为:\", max_value_two_backpacks(V, W, c))\n",
    "# your algorithm time complexity is: O(nc^2)"
   ],
   "outputs": [
    {
     "name": "stdout",
     "output_type": "stream",
     "text": [
      "最大价值为: 14\n"
     ]
    }
   ],
   "execution_count": 30
  },
  {
   "cell_type": "markdown",
   "metadata": {},
   "source": [
    "## 问题 10 \n",
    "\n",
    "> 给定两个字符串 $x[1..n]$ 和 $y[1..m]$，我们想通过以下操作将 $x$ 变换为 $y$ :\n",
    ">\n",
    "> **插入**：在 $x$ 中插入一个字符(在任何位置)；**删除**：从 $x$ 中删除一个字符(在任何位置)； **替换**：用另一个字符替换 $x$ 中的一个字符。\n",
    ">\n",
    "> 例如: $x = abcd$, $y = bcfe$，\n",
    ">\n",
    "> - 将 $x$ 转换为 $y$ 的一种可能方法是：1. 删除 $x$ 开头的 $a$, $x$变成 $bcd$； 2. 将 $x$ 中的字符 $d$ 替换为字符 $f$。$x$ 变成 $bcf$； 3. 在 $x$ 的末尾插入字符 $e$。$x$ 变成 $bcfe$。\n",
    ">\n",
    "> - 另一种可能的方法：1. 删除 $x$ 开头的 $a$,  $x$ 变成 $bcd$； 2. 在 $x$ 中字符 $d$ 之前插入字符 $f$。$x$ 变成 $bcfd$。3. 将 $x$ 中的字符 $d$ 替换为字符 $e$。$x$ 变成 $bcfe$。\n",
    "\n",
    "设计一个时间复杂度为 $O(mn)$ 的算法，返回将 $x$ 转换为 $y$ 所需的最少操作次数。分析算法设计思路，并基于python编程实现。\n"
   ]
  },
  {
   "cell_type": "markdown",
   "metadata": {},
   "source": [
    "idea："
   ]
  },
  {
   "cell_type": "code",
   "metadata": {
    "ExecuteTime": {
     "end_time": "2025-05-07T06:58:01.785651Z",
     "start_time": "2025-05-07T06:58:01.769521Z"
    }
   },
   "source": [
    "# add your idea here\n",
    "#参考大模型\n",
    "def min_edit_distance(x, y):\n",
    "    m, n = len(x), len(y)\n",
    "    # 创建动态规划表\n",
    "    dp = [[0] * (n + 1) for _ in range(m + 1)]\n",
    "    \n",
    "    # 初始化边界条件\n",
    "    for i in range(m + 1):\n",
    "        dp[i][0] = i\n",
    "    for j in range(n + 1):\n",
    "        dp[0][j] = j\n",
    "    \n",
    "    # 填充动态规划表\n",
    "    for i in range(1, m + 1):\n",
    "        for j in range(1, n + 1):\n",
    "            if x[i-1] == y[j-1]:\n",
    "                dp[i][j] = dp[i-1][j-1]\n",
    "            else:\n",
    "                insert = dp[i][j-1] + 1\n",
    "                delete = dp[i-1][j] + 1\n",
    "                replace = dp[i-1][j-1] + 1\n",
    "                dp[i][j] = min(insert, delete, replace)\n",
    "    \n",
    "    return dp[m][n]\n",
    "\n",
    "x = \"abcd\"\n",
    "y = \"bcfe\"\n",
    "print(\"最少操作次数为:\", min_edit_distance(x, y))\n",
    "# your algorithm time complexity is: O(mn)"
   ],
   "outputs": [
    {
     "name": "stdout",
     "output_type": "stream",
     "text": [
      "最少操作次数为: 3\n"
     ]
    }
   ],
   "execution_count": 31
  }
 ],
 "metadata": {
  "language_info": {
   "name": "python"
  },
  "kernelspec": {
   "name": "python3",
   "language": "python",
   "display_name": "Python 3 (ipykernel)"
  }
 },
 "nbformat": 4,
 "nbformat_minor": 2
}
